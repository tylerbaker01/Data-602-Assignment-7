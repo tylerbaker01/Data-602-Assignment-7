{
  "nbformat": 4,
  "nbformat_minor": 0,
  "metadata": {
    "colab": {
      "name": "07_assignment.ipynb",
      "provenance": []
    },
    "kernelspec": {
      "name": "python3",
      "display_name": "Python 3"
    }
  },
  "cells": [
    {
      "cell_type": "markdown",
      "metadata": {
        "id": "view-in-github"
      },
      "source": [
        "<a href=\"https://colab.research.google.com/github/data602sps/assignments/blob/master/05_assignment.ipynb\" target=\"_parent\"><img src=\"https://colab.research.google.com/assets/colab-badge.svg\" alt=\"Open In Colab\"/></a>"
      ]
    },
    {
      "cell_type": "markdown",
      "metadata": {
        "id": "rd2QZetSDszc"
      },
      "source": [
        "# **Assignment 7**\n",
        "\n",
        "# **Weeks 8 & 9 - Pandas**\n",
        "* In this homework assignment, you will explore and analyze a public dataset of your choosing. Since this assignment is “open-ended” in nature, you are free to expand upon the requirements below. However, you must meet the minimum requirments as indicated in each section. \n",
        "\n",
        "* You must use Pandas as the **primary tool** to process your data.\n",
        "\n",
        "* The preferred method for this analysis is in a .ipynb file. Feel free to use whichever platform of your choosing.  \n",
        " * https://www.youtube.com/watch?v=inN8seMm7UI (Getting started with Colab).\n",
        "\n",
        "* Your data should need some \"work\", or be considered \"dirty\".  You must show your skills in data cleaning/wrangling.\n",
        "\n",
        "### **Some data examples:**\n",
        "•\thttps://www.data.gov/\n",
        "\n",
        "•\thttps://opendata.cityofnewyork.us/\n",
        "\n",
        "•\thttps://datasetsearch.research.google.com/\n",
        "\n",
        "•\thttps://archive.ics.uci.edu/ml/index.php\n",
        "\n",
        "### **Resources:**\n",
        "\n",
        "•\thttps://pandas.pydata.org/pandas-docs/stable/getting_started/10min.html \n",
        "\n",
        "•\thttps://pandas.pydata.org/pandas-docs/stable/user_guide/visualization.html\n",
        "\n",
        "\n",
        "### **Headings or comments**\n",
        "**You are required to make use of comments, or headings for each section.  You must explain what your code is doing, and the results of running your code.**  Act as if you were giving this assignment to your manager - you must include clear and descriptive information for each section.\n",
        "\n",
        "### **You may work as a group or indivdually on this assignment.**\n"
      ]
    },
    {
      "cell_type": "markdown",
      "metadata": {
        "id": "uW3w6p8rqgxu"
      },
      "source": [
        "# Introduction\n",
        "\n",
        "In this section, please describe the dataset you are using.  Include a link to the source of this data.  You should also provide some explanation on why you choose this dataset."
      ]
    },
    {
      "cell_type": "markdown",
      "metadata": {
        "id": "L0PnfMOFzOXz"
      },
      "source": [
        ""
      ]
    },
    {
      "cell_type": "markdown",
      "metadata": {
        "id": "3bp8cdDxDs2t"
      },
      "source": [
        "______________\n",
        "# Data Exploration\n",
        "Import your dataset into your .ipynb, create dataframes, and explore your data.  \n",
        "\n",
        "Include: \n",
        "\n",
        "* Summary statistics means, medians, quartiles, \n",
        "* Missing value information\n",
        "* Any other relevant information about the dataset.  \n",
        "\n"
      ]
    },
    {
      "cell_type": "code",
      "metadata": {
        "id": "1OJmbafkEhhq"
      },
      "source": [
        ""
      ],
      "execution_count": null,
      "outputs": []
    },
    {
      "cell_type": "code",
      "metadata": {
        "id": "b0WTKtqozNn1"
      },
      "source": [
        ""
      ],
      "execution_count": null,
      "outputs": []
    },
    {
      "cell_type": "markdown",
      "metadata": {
        "id": "kCSLIafaEGVK"
      },
      "source": [
        "# Data Wrangling\n",
        "Create a subset of your original data and perform the following.  \n",
        "\n",
        "1. Modify multiple column names.\n",
        "\n",
        "2. Look at the structure of your data – are any variables improperly coded? Such as strings or characters? Convert to correct structure if needed.\n",
        "\n",
        "3. Fix missing and invalid values in data.\n",
        "\n",
        "4. Create new columns based on existing columns or calculations.\n",
        "\n",
        "5. Drop column(s) from your dataset.\n",
        "\n",
        "6. Drop a row(s) from your dataset.\n",
        "\n",
        "7. Sort your data based on multiple variables. \n",
        "\n",
        "8. Filter your data based on some condition. \n",
        "\n",
        "9. Convert all the string values to upper or lower cases in one column.\n",
        "\n",
        "10. Check whether numeric values are present in a given column of your dataframe.\n",
        "\n",
        "11. Group your dataset by one column, and get the mean, min, and max values by group. \n",
        "  * Groupby()\n",
        "  * agg() or .apply()\n",
        "\n",
        "12. Group your dataset by two columns and then sort the aggregated results within the groups. \n",
        "\n",
        "**You are free (and should) to add on to these questions.  Please clearly indicate in your assignment your answers to these questions.**"
      ]
    },
    {
      "cell_type": "code",
      "metadata": {
        "id": "4VWWvvynEiQT"
      },
      "source": [
        ""
      ],
      "execution_count": null,
      "outputs": []
    },
    {
      "cell_type": "code",
      "source": [
        ""
      ],
      "metadata": {
        "id": "nATPKSaNXD9B"
      },
      "execution_count": null,
      "outputs": []
    },
    {
      "cell_type": "markdown",
      "source": [
        "# Conclusions  \n",
        "\n",
        "After exploring your dataset, provide a short summary of what you noticed from this dataset.  What would you explore further with more time?"
      ],
      "metadata": {
        "id": "tujjevRpXEen"
      }
    },
    {
      "cell_type": "code",
      "source": [
        ""
      ],
      "metadata": {
        "id": "SshtuQj9XR5_"
      },
      "execution_count": null,
      "outputs": []
    }
  ]
}